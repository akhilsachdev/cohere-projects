{
 "cells": [
  {
   "cell_type": "code",
   "execution_count": 1,
   "metadata": {},
   "outputs": [],
   "source": [
    "import cohere\n",
    "co = cohere.Client('7zjBYbMJ6I8GkEDBXxbhJHGOCcuVPVTN76z0Vvjl')"
   ]
  },
  {
   "cell_type": "code",
   "execution_count": 2,
   "metadata": {},
   "outputs": [],
   "source": [
    "from cohere.classify import Example\n",
    "\n",
    "examples=[\n",
    "  Example(\"The order came 5 days early\", \"positive\"), \n",
    "  Example(\"The item exceeded my expectations\", \"positive\"), \n",
    "  Example(\"I ordered more for my friends\", \"positive\"), \n",
    "  Example(\"I would buy this again\", \"positive\"), \n",
    "  Example(\"I would recommend this to others\", \"positive\"), \n",
    "  Example(\"The package was damaged\", \"negative\"), \n",
    "  Example(\"The order is 5 days late\", \"negative\"), \n",
    "  Example(\"The order was incorrect\", \"negative\"), \n",
    "  Example(\"I want to return my item\", \"negative\"), \n",
    "  Example(\"The item\\'s material feels low quality\", \"negative\"), \n",
    "  Example(\"The product was okay\", \"neutral\"), \n",
    "  Example(\"I received five items in total\", \"neutral\"), \n",
    "  Example(\"I bought it from the website\", \"neutral\"), \n",
    "  Example(\"I used the product this morning\", \"neutral\"), \n",
    "  Example(\"The product arrived yesterday\", \"neutral\"),\n",
    "]"
   ]
  },
  {
   "cell_type": "code",
   "execution_count": 3,
   "metadata": {},
   "outputs": [],
   "source": [
    "inputs=[\n",
    "  \"This item was broken when it arrived\",\n",
    "  \"The product is amazing\",\n",
    "  \"The product was not too bad\",\n",
    "]"
   ]
  },
  {
   "cell_type": "code",
   "execution_count": 4,
   "metadata": {},
   "outputs": [
    {
     "name": "stdout",
     "output_type": "stream",
     "text": [
      "[Classification<prediction: \"negative\", confidence: 0.98532915, labels: {'negative': LabelPrediction(confidence=0.98532915), 'neutral': LabelPrediction(confidence=0.013563732), 'positive': LabelPrediction(confidence=0.001107097)}>, Classification<prediction: \"neutral\", confidence: 0.9015253, labels: {'negative': LabelPrediction(confidence=0.0013588573), 'neutral': LabelPrediction(confidence=0.9015253), 'positive': LabelPrediction(confidence=0.09711582)}>, Classification<prediction: \"neutral\", confidence: 0.9977567, labels: {'negative': LabelPrediction(confidence=0.0004935372), 'neutral': LabelPrediction(confidence=0.9977567), 'positive': LabelPrediction(confidence=0.0017497388)}>]\n"
     ]
    }
   ],
   "source": [
    "response = co.classify(\n",
    "  model='large',\n",
    "  inputs=inputs,\n",
    "  examples=examples,\n",
    ")\n",
    "\n",
    "print(response.classifications)"
   ]
  },
  {
   "cell_type": "code",
   "execution_count": null,
   "metadata": {},
   "outputs": [],
   "source": []
  }
 ],
 "metadata": {
  "kernelspec": {
   "display_name": "base",
   "language": "python",
   "name": "python3"
  },
  "language_info": {
   "codemirror_mode": {
    "name": "ipython",
    "version": 3
   },
   "file_extension": ".py",
   "mimetype": "text/x-python",
   "name": "python",
   "nbconvert_exporter": "python",
   "pygments_lexer": "ipython3",
   "version": "3.9.13"
  },
  "orig_nbformat": 4,
  "vscode": {
   "interpreter": {
    "hash": "20ef9ea6aa43e9b907558243499836ef619f7189459cb6ee0238b5e3bbbb7cac"
   }
  }
 },
 "nbformat": 4,
 "nbformat_minor": 2
}
